{
  "nbformat": 4,
  "nbformat_minor": 0,
  "metadata": {
    "colab": {
      "name": "Lab1.ipynb",
      "provenance": []
    },
    "kernelspec": {
      "name": "python3",
      "display_name": "Python 3"
    },
    "language_info": {
      "name": "python"
    }
  },
  "cells": [
    {
      "cell_type": "code",
      "execution_count": null,
      "metadata": {
        "id": "OLybbZbwvtzd"
      },
      "outputs": [],
      "source": [
        "# innstall java\n",
        "!apt-get install openjdk-8-jdk-headless -qq > /dev/null\n",
        "\n",
        "# install spark (change the version number if needed)\n",
        "!wget -q https://archive.apache.org/dist/spark/spark-3.0.0/spark-3.0.0-bin-hadoop3.2.tgz\n",
        "\n",
        "# unzip the spark file to the current folder\n",
        "!tar xf spark-3.0.0-bin-hadoop3.2.tgz\n",
        "\n",
        "# set your spark folder to your system path environment. \n",
        "import os\n",
        "os.environ[\"JAVA_HOME\"] = \"/usr/lib/jvm/java-8-openjdk-amd64\"\n",
        "os.environ[\"SPARK_HOME\"] = \"/content/spark-3.0.0-bin-hadoop3.2\"\n",
        "\n",
        "# install findspark using pip\n",
        "!pip install -q findspark"
      ]
    },
    {
      "cell_type": "code",
      "source": [
        "import findspark\n",
        "findspark.init()\n",
        "from pyspark.sql import SparkSession\n",
        "spark = SparkSession.builder.master(\"local[*]\").getOrCreate()\n",
        "df = spark.read.csv(\"sample_data/BostonHousing.csv\")\n",
        "df2 = spark.read.option(\"header\",True) \\\n",
        "     .csv(\"sample_data/BostonHousing.csv\")\n",
        "\n",
        "df2.show(5)"
      ],
      "metadata": {
        "colab": {
          "base_uri": "https://localhost:8080/"
        },
        "id": "D7zkRSqCwmJs",
        "outputId": "c8b055aa-4346-499f-e548-e00c1a79bc2a"
      },
      "execution_count": null,
      "outputs": [
        {
          "output_type": "stream",
          "name": "stdout",
          "text": [
            "+-------+---+-----+----+-----+-----+----+------+---+---+-------+------+-----+----+\n",
            "|   crim| zn|indus|chas|  nox|   rm| age|   dis|rad|tax|ptratio|     b|lstat|medv|\n",
            "+-------+---+-----+----+-----+-----+----+------+---+---+-------+------+-----+----+\n",
            "|0.00632| 18| 2.31|   0|0.538|6.575|65.2|  4.09|  1|296|   15.3| 396.9| 4.98|  24|\n",
            "|0.02731|  0| 7.07|   0|0.469|6.421|78.9|4.9671|  2|242|   17.8| 396.9| 9.14|21.6|\n",
            "|0.02729|  0| 7.07|   0|0.469|7.185|61.1|4.9671|  2|242|   17.8|392.83| 4.03|34.7|\n",
            "|0.03237|  0| 2.18|   0|0.458|6.998|45.8|6.0622|  3|222|   18.7|394.63| 2.94|33.4|\n",
            "|0.06905|  0| 2.18|   0|0.458|7.147|54.2|6.0622|  3|222|   18.7| 396.9| 5.33|36.2|\n",
            "+-------+---+-----+----+-----+-----+----+------+---+---+-------+------+-----+----+\n",
            "only showing top 5 rows\n",
            "\n"
          ]
        }
      ]
    },
    {
      "cell_type": "code",
      "source": [
        "#counting the number of rows\n",
        "df2.count()"
      ],
      "metadata": {
        "colab": {
          "base_uri": "https://localhost:8080/"
        },
        "id": "rt0TcDzvzS1E",
        "outputId": "39bf1552-c44f-46bb-9369-cebd68c13171"
      },
      "execution_count": null,
      "outputs": [
        {
          "output_type": "execute_result",
          "data": {
            "text/plain": [
              "506"
            ]
          },
          "metadata": {},
          "execution_count": 20
        }
      ]
    },
    {
      "cell_type": "code",
      "source": [
        "df2.schema"
      ],
      "metadata": {
        "colab": {
          "base_uri": "https://localhost:8080/"
        },
        "id": "EQ02plUZzo9a",
        "outputId": "6dcc4dde-79c0-472b-bf93-1646a62b59e3"
      },
      "execution_count": null,
      "outputs": [
        {
          "output_type": "execute_result",
          "data": {
            "text/plain": [
              "StructType(List(StructField(crim,DoubleType,true),StructField(zn,DoubleType,true),StructField(indus,DoubleType,true),StructField(chas,DoubleType,true),StructField(nox,DoubleType,true),StructField(rm,DoubleType,true),StructField(age,DoubleType,true),StructField(dis,DoubleType,true),StructField(rad,DoubleType,true),StructField(tax,DoubleType,true),StructField(ptratio,DoubleType,true),StructField(b,DoubleType,true),StructField(lstat,DoubleType,true),StructField(medv,DoubleType,true)))"
            ]
          },
          "metadata": {},
          "execution_count": 21
        }
      ]
    },
    {
      "cell_type": "code",
      "source": [
        "df2.printSchema()"
      ],
      "metadata": {
        "colab": {
          "base_uri": "https://localhost:8080/"
        },
        "id": "VJw5X4w0z6z7",
        "outputId": "b8683094-5c20-4489-aba9-d133910cc76b"
      },
      "execution_count": null,
      "outputs": [
        {
          "output_type": "stream",
          "name": "stdout",
          "text": [
            "root\n",
            " |-- crim: double (nullable = true)\n",
            " |-- zn: double (nullable = true)\n",
            " |-- indus: double (nullable = true)\n",
            " |-- chas: double (nullable = true)\n",
            " |-- nox: double (nullable = true)\n",
            " |-- rm: double (nullable = true)\n",
            " |-- age: double (nullable = true)\n",
            " |-- dis: double (nullable = true)\n",
            " |-- rad: double (nullable = true)\n",
            " |-- tax: double (nullable = true)\n",
            " |-- ptratio: double (nullable = true)\n",
            " |-- b: double (nullable = true)\n",
            " |-- lstat: double (nullable = true)\n",
            " |-- medv: double (nullable = true)\n",
            "\n"
          ]
        }
      ]
    },
    {
      "cell_type": "code",
      "source": [
        "df2.schema.fields"
      ],
      "metadata": {
        "colab": {
          "base_uri": "https://localhost:8080/"
        },
        "id": "gFHvu4uO0JmN",
        "outputId": "bf6615fd-88eb-4569-ffc6-57859e34b248"
      },
      "execution_count": null,
      "outputs": [
        {
          "output_type": "execute_result",
          "data": {
            "text/plain": [
              "[StructField(crim,DoubleType,true),\n",
              " StructField(zn,DoubleType,true),\n",
              " StructField(indus,DoubleType,true),\n",
              " StructField(chas,DoubleType,true),\n",
              " StructField(nox,DoubleType,true),\n",
              " StructField(rm,DoubleType,true),\n",
              " StructField(age,DoubleType,true),\n",
              " StructField(dis,DoubleType,true),\n",
              " StructField(rad,DoubleType,true),\n",
              " StructField(tax,DoubleType,true),\n",
              " StructField(ptratio,DoubleType,true),\n",
              " StructField(b,DoubleType,true),\n",
              " StructField(lstat,DoubleType,true),\n",
              " StructField(medv,DoubleType,true)]"
            ]
          },
          "metadata": {},
          "execution_count": 23
        }
      ]
    },
    {
      "cell_type": "code",
      "source": [
        "##dropping column \"b\"\n",
        "df2.drop(\"b\") \\\n",
        "  .printSchema()"
      ],
      "metadata": {
        "colab": {
          "base_uri": "https://localhost:8080/"
        },
        "id": "9WKR4eKu0R15",
        "outputId": "e45a0ce6-4780-4530-f5db-b07a658e8ead"
      },
      "execution_count": null,
      "outputs": [
        {
          "output_type": "stream",
          "name": "stdout",
          "text": [
            "root\n",
            " |-- crim: double (nullable = true)\n",
            " |-- zn: double (nullable = true)\n",
            " |-- indus: double (nullable = true)\n",
            " |-- chas: double (nullable = true)\n",
            " |-- nox: double (nullable = true)\n",
            " |-- rm: double (nullable = true)\n",
            " |-- age: double (nullable = true)\n",
            " |-- dis: double (nullable = true)\n",
            " |-- rad: double (nullable = true)\n",
            " |-- tax: double (nullable = true)\n",
            " |-- ptratio: double (nullable = true)\n",
            " |-- lstat: double (nullable = true)\n",
            " |-- medv: double (nullable = true)\n",
            "\n"
          ]
        }
      ]
    },
    {
      "cell_type": "code",
      "source": [
        "from pyspark.sql.functions import round, col\n",
        "for c in df2.columns:\n",
        "    df2 = df2.withColumn(c, round(c, 2))\n"
      ],
      "metadata": {
        "id": "cnHxjDV60jBD"
      },
      "execution_count": null,
      "outputs": []
    },
    {
      "cell_type": "code",
      "source": [
        "df2.show(5)"
      ],
      "metadata": {
        "colab": {
          "base_uri": "https://localhost:8080/"
        },
        "id": "S8ACDMeW2h6J",
        "outputId": "d2a3e9a3-4431-437a-e549-95c0fece937e"
      },
      "execution_count": null,
      "outputs": [
        {
          "output_type": "stream",
          "name": "stdout",
          "text": [
            "+----+----+-----+----+----+----+----+----+---+-----+-------+------+-----+----+\n",
            "|crim|  zn|indus|chas| nox|  rm| age| dis|rad|  tax|ptratio|     b|lstat|medv|\n",
            "+----+----+-----+----+----+----+----+----+---+-----+-------+------+-----+----+\n",
            "|0.01|18.0| 2.31| 0.0|0.54|6.58|65.2|4.09|1.0|296.0|   15.3| 396.9| 4.98|24.0|\n",
            "|0.03| 0.0| 7.07| 0.0|0.47|6.42|78.9|4.97|2.0|242.0|   17.8| 396.9| 9.14|21.6|\n",
            "|0.03| 0.0| 7.07| 0.0|0.47|7.19|61.1|4.97|2.0|242.0|   17.8|392.83| 4.03|34.7|\n",
            "|0.03| 0.0| 2.18| 0.0|0.46| 7.0|45.8|6.06|3.0|222.0|   18.7|394.63| 2.94|33.4|\n",
            "|0.07| 0.0| 2.18| 0.0|0.46|7.15|54.2|6.06|3.0|222.0|   18.7| 396.9| 5.33|36.2|\n",
            "+----+----+-----+----+----+----+----+----+---+-----+-------+------+-----+----+\n",
            "only showing top 5 rows\n",
            "\n"
          ]
        }
      ]
    },
    {
      "cell_type": "code",
      "source": [
        ""
      ],
      "metadata": {
        "id": "Qi-_bXbF3JqV"
      },
      "execution_count": null,
      "outputs": []
    },
    {
      "cell_type": "code",
      "source": [
        "age10=df2.age*1.1"
      ],
      "metadata": {
        "id": "HFOGk8bC3J0-"
      },
      "execution_count": null,
      "outputs": []
    },
    {
      "cell_type": "code",
      "source": [
        "age10"
      ],
      "metadata": {
        "colab": {
          "base_uri": "https://localhost:8080/"
        },
        "id": "PS1yS3nx3J4j",
        "outputId": "ef3cbe75-ffd5-4445-b01c-6ff79d8c0f71"
      },
      "execution_count": null,
      "outputs": [
        {
          "output_type": "execute_result",
          "data": {
            "text/plain": [
              "Column<b'(age * 1.1)'>"
            ]
          },
          "metadata": {},
          "execution_count": 29
        }
      ]
    },
    {
      "cell_type": "code",
      "source": [
        "age_list=df2.select(\"age\").rdd.flatMap(lambda x:x).collect()"
      ],
      "metadata": {
        "id": "EYddT_gR3hW5"
      },
      "execution_count": null,
      "outputs": []
    },
    {
      "cell_type": "code",
      "source": [
        "age_list"
      ],
      "metadata": {
        "colab": {
          "base_uri": "https://localhost:8080/"
        },
        "id": "Ir3KVr7Q3haj",
        "outputId": "a39a33be-24e0-44aa-d2fc-defa05d0ffdd"
      },
      "execution_count": null,
      "outputs": [
        {
          "output_type": "execute_result",
          "data": {
            "text/plain": [
              "[65.2,\n",
              " 78.9,\n",
              " 61.1,\n",
              " 45.8,\n",
              " 54.2,\n",
              " 58.7,\n",
              " 66.6,\n",
              " 96.1,\n",
              " 100.0,\n",
              " 85.9,\n",
              " 94.3,\n",
              " 82.9,\n",
              " 39.0,\n",
              " 61.8,\n",
              " 84.5,\n",
              " 56.5,\n",
              " 29.3,\n",
              " 81.7,\n",
              " 36.6,\n",
              " 69.5,\n",
              " 98.1,\n",
              " 89.2,\n",
              " 91.7,\n",
              " 100.0,\n",
              " 94.1,\n",
              " 85.7,\n",
              " 90.3,\n",
              " 88.8,\n",
              " 94.4,\n",
              " 87.3,\n",
              " 94.1,\n",
              " 100.0,\n",
              " 82.0,\n",
              " 95.0,\n",
              " 96.9,\n",
              " 68.2,\n",
              " 61.4,\n",
              " 41.5,\n",
              " 30.2,\n",
              " 21.8,\n",
              " 15.8,\n",
              " 2.9,\n",
              " 6.6,\n",
              " 6.5,\n",
              " 40.0,\n",
              " 33.8,\n",
              " 33.3,\n",
              " 85.5,\n",
              " 95.3,\n",
              " 62.0,\n",
              " 45.7,\n",
              " 63.0,\n",
              " 21.1,\n",
              " 21.4,\n",
              " 47.6,\n",
              " 21.9,\n",
              " 35.7,\n",
              " 40.5,\n",
              " 29.2,\n",
              " 47.2,\n",
              " 66.2,\n",
              " 93.4,\n",
              " 67.8,\n",
              " 43.4,\n",
              " 59.5,\n",
              " 17.8,\n",
              " 31.1,\n",
              " 21.4,\n",
              " 36.8,\n",
              " 33.0,\n",
              " 6.6,\n",
              " 17.5,\n",
              " 7.8,\n",
              " 6.2,\n",
              " 6.0,\n",
              " 45.0,\n",
              " 74.5,\n",
              " 45.8,\n",
              " 53.7,\n",
              " 36.6,\n",
              " 33.5,\n",
              " 70.4,\n",
              " 32.2,\n",
              " 46.7,\n",
              " 48.0,\n",
              " 56.1,\n",
              " 45.1,\n",
              " 56.8,\n",
              " 86.3,\n",
              " 63.1,\n",
              " 66.1,\n",
              " 73.9,\n",
              " 53.6,\n",
              " 28.9,\n",
              " 77.3,\n",
              " 57.8,\n",
              " 69.6,\n",
              " 76.0,\n",
              " 36.9,\n",
              " 62.5,\n",
              " 79.9,\n",
              " 71.3,\n",
              " 85.4,\n",
              " 87.4,\n",
              " 90.0,\n",
              " 96.7,\n",
              " 91.9,\n",
              " 85.2,\n",
              " 97.1,\n",
              " 91.2,\n",
              " 54.4,\n",
              " 81.6,\n",
              " 92.9,\n",
              " 95.4,\n",
              " 84.2,\n",
              " 88.2,\n",
              " 72.5,\n",
              " 82.6,\n",
              " 73.1,\n",
              " 65.2,\n",
              " 69.7,\n",
              " 84.1,\n",
              " 92.9,\n",
              " 97.0,\n",
              " 95.8,\n",
              " 88.4,\n",
              " 95.6,\n",
              " 96.0,\n",
              " 98.8,\n",
              " 94.7,\n",
              " 98.9,\n",
              " 97.7,\n",
              " 97.9,\n",
              " 95.4,\n",
              " 98.4,\n",
              " 98.2,\n",
              " 93.5,\n",
              " 98.4,\n",
              " 98.2,\n",
              " 97.9,\n",
              " 93.6,\n",
              " 100.0,\n",
              " 100.0,\n",
              " 100.0,\n",
              " 97.8,\n",
              " 100.0,\n",
              " 100.0,\n",
              " 95.7,\n",
              " 93.8,\n",
              " 94.9,\n",
              " 97.3,\n",
              " 100.0,\n",
              " 88.0,\n",
              " 98.5,\n",
              " 96.0,\n",
              " 82.6,\n",
              " 94.0,\n",
              " 97.4,\n",
              " 100.0,\n",
              " 100.0,\n",
              " 92.6,\n",
              " 90.8,\n",
              " 98.2,\n",
              " 93.9,\n",
              " 91.8,\n",
              " 93.0,\n",
              " 96.2,\n",
              " 79.2,\n",
              " 96.1,\n",
              " 95.2,\n",
              " 94.6,\n",
              " 97.3,\n",
              " 88.5,\n",
              " 84.1,\n",
              " 68.7,\n",
              " 33.1,\n",
              " 47.2,\n",
              " 73.4,\n",
              " 74.4,\n",
              " 58.4,\n",
              " 83.3,\n",
              " 62.2,\n",
              " 92.2,\n",
              " 95.6,\n",
              " 89.8,\n",
              " 68.8,\n",
              " 53.6,\n",
              " 41.1,\n",
              " 29.1,\n",
              " 38.9,\n",
              " 21.5,\n",
              " 30.8,\n",
              " 26.3,\n",
              " 9.9,\n",
              " 18.8,\n",
              " 32.0,\n",
              " 34.1,\n",
              " 36.6,\n",
              " 38.3,\n",
              " 15.3,\n",
              " 13.9,\n",
              " 38.4,\n",
              " 15.7,\n",
              " 33.2,\n",
              " 31.9,\n",
              " 22.3,\n",
              " 52.5,\n",
              " 72.7,\n",
              " 59.1,\n",
              " 100.0,\n",
              " 92.1,\n",
              " 88.6,\n",
              " 53.8,\n",
              " 32.3,\n",
              " 9.8,\n",
              " 42.4,\n",
              " 56.0,\n",
              " 85.1,\n",
              " 93.8,\n",
              " 92.4,\n",
              " 88.5,\n",
              " 91.3,\n",
              " 77.7,\n",
              " 80.8,\n",
              " 78.3,\n",
              " 83.0,\n",
              " 86.5,\n",
              " 79.9,\n",
              " 17.0,\n",
              " 21.4,\n",
              " 68.1,\n",
              " 76.9,\n",
              " 73.3,\n",
              " 70.4,\n",
              " 66.5,\n",
              " 61.5,\n",
              " 76.5,\n",
              " 71.6,\n",
              " 18.5,\n",
              " 42.2,\n",
              " 54.3,\n",
              " 65.1,\n",
              " 52.9,\n",
              " 7.8,\n",
              " 76.5,\n",
              " 70.2,\n",
              " 34.9,\n",
              " 79.2,\n",
              " 49.1,\n",
              " 17.5,\n",
              " 13.0,\n",
              " 8.9,\n",
              " 6.8,\n",
              " 8.4,\n",
              " 32.0,\n",
              " 19.1,\n",
              " 34.2,\n",
              " 86.9,\n",
              " 100.0,\n",
              " 100.0,\n",
              " 81.8,\n",
              " 89.4,\n",
              " 91.5,\n",
              " 94.5,\n",
              " 91.6,\n",
              " 62.8,\n",
              " 84.6,\n",
              " 67.0,\n",
              " 52.6,\n",
              " 61.5,\n",
              " 42.1,\n",
              " 16.3,\n",
              " 58.7,\n",
              " 51.8,\n",
              " 32.9,\n",
              " 42.8,\n",
              " 49.0,\n",
              " 27.6,\n",
              " 32.1,\n",
              " 32.2,\n",
              " 64.5,\n",
              " 37.2,\n",
              " 49.7,\n",
              " 24.8,\n",
              " 20.8,\n",
              " 31.9,\n",
              " 31.5,\n",
              " 31.3,\n",
              " 45.6,\n",
              " 22.9,\n",
              " 27.9,\n",
              " 27.7,\n",
              " 23.4,\n",
              " 18.4,\n",
              " 42.3,\n",
              " 31.1,\n",
              " 51.0,\n",
              " 58.0,\n",
              " 20.1,\n",
              " 10.0,\n",
              " 47.4,\n",
              " 40.4,\n",
              " 18.4,\n",
              " 17.7,\n",
              " 41.1,\n",
              " 58.1,\n",
              " 71.9,\n",
              " 70.3,\n",
              " 82.5,\n",
              " 76.7,\n",
              " 37.8,\n",
              " 52.8,\n",
              " 90.4,\n",
              " 82.8,\n",
              " 87.3,\n",
              " 77.7,\n",
              " 83.2,\n",
              " 71.7,\n",
              " 67.2,\n",
              " 58.8,\n",
              " 52.3,\n",
              " 54.3,\n",
              " 49.9,\n",
              " 74.3,\n",
              " 40.1,\n",
              " 14.7,\n",
              " 28.9,\n",
              " 43.7,\n",
              " 25.8,\n",
              " 17.2,\n",
              " 32.2,\n",
              " 28.4,\n",
              " 23.3,\n",
              " 38.1,\n",
              " 38.5,\n",
              " 34.5,\n",
              " 46.3,\n",
              " 59.6,\n",
              " 37.3,\n",
              " 45.4,\n",
              " 58.5,\n",
              " 49.3,\n",
              " 59.7,\n",
              " 56.4,\n",
              " 28.1,\n",
              " 48.5,\n",
              " 52.3,\n",
              " 27.7,\n",
              " 29.7,\n",
              " 34.5,\n",
              " 44.4,\n",
              " 35.9,\n",
              " 18.5,\n",
              " 36.1,\n",
              " 21.9,\n",
              " 19.5,\n",
              " 97.4,\n",
              " 91.0,\n",
              " 83.4,\n",
              " 81.3,\n",
              " 88.0,\n",
              " 91.1,\n",
              " 96.2,\n",
              " 89.0,\n",
              " 82.9,\n",
              " 87.9,\n",
              " 91.4,\n",
              " 100.0,\n",
              " 100.0,\n",
              " 96.8,\n",
              " 97.5,\n",
              " 100.0,\n",
              " 89.6,\n",
              " 100.0,\n",
              " 100.0,\n",
              " 97.9,\n",
              " 93.3,\n",
              " 98.8,\n",
              " 96.2,\n",
              " 100.0,\n",
              " 91.9,\n",
              " 99.1,\n",
              " 100.0,\n",
              " 100.0,\n",
              " 91.2,\n",
              " 98.1,\n",
              " 100.0,\n",
              " 89.5,\n",
              " 100.0,\n",
              " 98.9,\n",
              " 97.0,\n",
              " 82.5,\n",
              " 97.0,\n",
              " 92.6,\n",
              " 94.7,\n",
              " 98.8,\n",
              " 96.0,\n",
              " 98.9,\n",
              " 100.0,\n",
              " 77.8,\n",
              " 100.0,\n",
              " 100.0,\n",
              " 100.0,\n",
              " 96.0,\n",
              " 85.4,\n",
              " 100.0,\n",
              " 100.0,\n",
              " 100.0,\n",
              " 97.9,\n",
              " 100.0,\n",
              " 100.0,\n",
              " 100.0,\n",
              " 100.0,\n",
              " 100.0,\n",
              " 100.0,\n",
              " 100.0,\n",
              " 90.8,\n",
              " 89.1,\n",
              " 100.0,\n",
              " 76.5,\n",
              " 100.0,\n",
              " 95.3,\n",
              " 87.6,\n",
              " 85.1,\n",
              " 70.6,\n",
              " 95.4,\n",
              " 59.7,\n",
              " 78.7,\n",
              " 78.1,\n",
              " 95.6,\n",
              " 86.1,\n",
              " 94.3,\n",
              " 74.8,\n",
              " 87.9,\n",
              " 95.0,\n",
              " 94.6,\n",
              " 93.3,\n",
              " 100.0,\n",
              " 87.9,\n",
              " 93.9,\n",
              " 92.4,\n",
              " 97.2,\n",
              " 100.0,\n",
              " 100.0,\n",
              " 96.6,\n",
              " 94.8,\n",
              " 96.4,\n",
              " 96.6,\n",
              " 98.7,\n",
              " 98.3,\n",
              " 92.6,\n",
              " 98.2,\n",
              " 91.8,\n",
              " 99.3,\n",
              " 94.1,\n",
              " 86.5,\n",
              " 87.9,\n",
              " 80.3,\n",
              " 83.7,\n",
              " 84.4,\n",
              " 90.0,\n",
              " 88.4,\n",
              " 83.0,\n",
              " 89.9,\n",
              " 65.4,\n",
              " 48.2,\n",
              " 84.7,\n",
              " 94.5,\n",
              " 71.0,\n",
              " 56.7,\n",
              " 84.0,\n",
              " 90.7,\n",
              " 75.0,\n",
              " 67.6,\n",
              " 95.4,\n",
              " 97.4,\n",
              " 93.6,\n",
              " 97.3,\n",
              " 96.7,\n",
              " 88.0,\n",
              " 64.7,\n",
              " 74.9,\n",
              " 77.0,\n",
              " 40.3,\n",
              " 41.9,\n",
              " 51.9,\n",
              " 79.8,\n",
              " 53.2,\n",
              " 92.7,\n",
              " 98.3,\n",
              " 98.0,\n",
              " 98.8,\n",
              " 83.5,\n",
              " 54.0,\n",
              " 42.6,\n",
              " 28.8,\n",
              " 72.9,\n",
              " 70.6,\n",
              " 65.3,\n",
              " 73.5,\n",
              " 79.7,\n",
              " 69.1,\n",
              " 76.7,\n",
              " 91.0,\n",
              " 89.3,\n",
              " 80.8]"
            ]
          },
          "metadata": {},
          "execution_count": 32
        }
      ]
    },
    {
      "cell_type": "code",
      "source": [
        "df2=df2.withColumn('Age10',age10)"
      ],
      "metadata": {
        "id": "F0daD7Xo5BAF"
      },
      "execution_count": null,
      "outputs": []
    },
    {
      "cell_type": "code",
      "source": [
        "df2.show(5)"
      ],
      "metadata": {
        "colab": {
          "base_uri": "https://localhost:8080/"
        },
        "id": "QPK0nY_74DZm",
        "outputId": "0d82ba62-44ab-4412-bf15-ad779ce67b74"
      },
      "execution_count": null,
      "outputs": [
        {
          "output_type": "stream",
          "name": "stdout",
          "text": [
            "+----+----+-----+----+----+----+----+----+---+-----+-------+------+-----+----+------------------+\n",
            "|crim|  zn|indus|chas| nox|  rm| age| dis|rad|  tax|ptratio|     b|lstat|medv|             Age10|\n",
            "+----+----+-----+----+----+----+----+----+---+-----+-------+------+-----+----+------------------+\n",
            "|0.01|18.0| 2.31| 0.0|0.54|6.58|65.2|4.09|1.0|296.0|   15.3| 396.9| 4.98|24.0| 71.72000000000001|\n",
            "|0.03| 0.0| 7.07| 0.0|0.47|6.42|78.9|4.97|2.0|242.0|   17.8| 396.9| 9.14|21.6|             86.79|\n",
            "|0.03| 0.0| 7.07| 0.0|0.47|7.19|61.1|4.97|2.0|242.0|   17.8|392.83| 4.03|34.7| 67.21000000000001|\n",
            "|0.03| 0.0| 2.18| 0.0|0.46| 7.0|45.8|6.06|3.0|222.0|   18.7|394.63| 2.94|33.4|             50.38|\n",
            "|0.07| 0.0| 2.18| 0.0|0.46|7.15|54.2|6.06|3.0|222.0|   18.7| 396.9| 5.33|36.2|59.620000000000005|\n",
            "+----+----+-----+----+----+----+----+----+---+-----+-------+------+-----+----+------------------+\n",
            "only showing top 5 rows\n",
            "\n"
          ]
        }
      ]
    },
    {
      "cell_type": "code",
      "source": [
        "for c in df2.columns:\n",
        "    df2 = df2.withColumn(c, round(c, 2))\n"
      ],
      "metadata": {
        "id": "wWtCsOn55QIN"
      },
      "execution_count": null,
      "outputs": []
    },
    {
      "cell_type": "code",
      "source": [
        "df2.show(5)"
      ],
      "metadata": {
        "colab": {
          "base_uri": "https://localhost:8080/"
        },
        "id": "DRNiuRny5SF1",
        "outputId": "7215dc52-a12f-47b3-d961-537f69242e36"
      },
      "execution_count": null,
      "outputs": [
        {
          "output_type": "stream",
          "name": "stdout",
          "text": [
            "+----+----+-----+----+----+----+----+----+---+-----+-------+------+-----+----+-----+\n",
            "|crim|  zn|indus|chas| nox|  rm| age| dis|rad|  tax|ptratio|     b|lstat|medv|Age10|\n",
            "+----+----+-----+----+----+----+----+----+---+-----+-------+------+-----+----+-----+\n",
            "|0.01|18.0| 2.31| 0.0|0.54|6.58|65.2|4.09|1.0|296.0|   15.3| 396.9| 4.98|24.0|71.72|\n",
            "|0.03| 0.0| 7.07| 0.0|0.47|6.42|78.9|4.97|2.0|242.0|   17.8| 396.9| 9.14|21.6|86.79|\n",
            "|0.03| 0.0| 7.07| 0.0|0.47|7.19|61.1|4.97|2.0|242.0|   17.8|392.83| 4.03|34.7|67.21|\n",
            "|0.03| 0.0| 2.18| 0.0|0.46| 7.0|45.8|6.06|3.0|222.0|   18.7|394.63| 2.94|33.4|50.38|\n",
            "|0.07| 0.0| 2.18| 0.0|0.46|7.15|54.2|6.06|3.0|222.0|   18.7| 396.9| 5.33|36.2|59.62|\n",
            "+----+----+-----+----+----+----+----+----+---+-----+-------+------+-----+----+-----+\n",
            "only showing top 5 rows\n",
            "\n"
          ]
        }
      ]
    },
    {
      "cell_type": "code",
      "source": [
        "import matplotlib.pyplot as plt\n",
        "bins=50\n",
        "n,bins, patches= plt.hist(age_list,bins,facecolor=\"red\",alpha=0.5)"
      ],
      "metadata": {
        "colab": {
          "base_uri": "https://localhost:8080/",
          "height": 265
        },
        "id": "KO15NThA2y8i",
        "outputId": "c068f7cc-9db9-4e62-a827-f0d0d1f58ee6"
      },
      "execution_count": null,
      "outputs": [
        {
          "output_type": "display_data",
          "data": {
            "text/plain": [
              "<Figure size 432x288 with 1 Axes>"
            ],
            "image/png": "[encoded data removed]"
          },
          "metadata": {
            "needs_background": "light"
          }
        }
      ]
    },
    {
      "cell_type": "code",
      "source": [
        "df2.describe().show()"
      ],
      "metadata": {
        "colab": {
          "base_uri": "https://localhost:8080/"
        },
        "id": "Ydq02rQ_4VYq",
        "outputId": "0021250f-0d59-4891-ccaa-f44791437746"
      },
      "execution_count": null,
      "outputs": [
        {
          "output_type": "stream",
          "name": "stdout",
          "text": [
            "+-------+------------------+------------------+------------------+------------------+------------------+------------------+------------------+------------------+-----------------+------------------+------------------+------------------+------------------+------------------+------------------+\n",
            "|summary|              crim|                zn|             indus|              chas|               nox|                rm|               age|               dis|              rad|               tax|           ptratio|                 b|             lstat|              medv|             Age10|\n",
            "+-------+------------------+------------------+------------------+------------------+------------------+------------------+------------------+------------------+-----------------+------------------+------------------+------------------+------------------+------------------+------------------+\n",
            "|  count|               506|               506|               506|               506|               506|               506|               506|               506|              506|               506|               506|               506|               506|               506|               506|\n",
            "|   mean|3.6134189723320147|11.363636363636363|11.136778656126504|0.0691699604743083|0.5547628458498024| 6.285217391304348| 68.57490118577078| 3.795434782608693|9.549407114624506| 408.2371541501976|18.455533596837967|356.67403162055257|12.653063241106723|22.532806324110698| 75.43239130434783|\n",
            "| stddev| 8.601602243696705| 23.32245299451514| 6.860352940897589|0.2539940413404101|0.1155068172648583|0.7028533445424924|28.148861406903595|2.1057760049129106|8.707259384239366|168.53711605495903|2.1649455237144455| 91.29486438415782| 7.141061511348571| 9.197104087379815|30.963747547593968|\n",
            "|    min|              0.01|               0.0|              0.46|               0.0|              0.39|              3.56|               2.9|              1.13|              1.0|             187.0|              12.6|              0.32|              1.73|               5.0|              3.19|\n",
            "|    max|             88.98|             100.0|             27.74|               1.0|              0.87|              8.78|             100.0|             12.13|             24.0|             711.0|              22.0|             396.9|             37.97|              50.0|             110.0|\n",
            "+-------+------------------+------------------+------------------+------------------+------------------+------------------+------------------+------------------+-----------------+------------------+------------------+------------------+------------------+------------------+------------------+\n",
            "\n"
          ]
        }
      ]
    },
    {
      "cell_type": "code",
      "source": [
        ""
      ],
      "metadata": {
        "id": "R4KphpUu6lMq"
      },
      "execution_count": null,
      "outputs": []
    },
    {
      "cell_type": "code",
      "source": [
        "import pandas"
      ],
      "metadata": {
        "id": "vSysZWXi5ejW"
      },
      "execution_count": null,
      "outputs": []
    },
    {
      "cell_type": "code",
      "source": [
        "pd=df2.toPandas()"
      ],
      "metadata": {
        "id": "ckZuaIXD5eqI"
      },
      "execution_count": null,
      "outputs": []
    },
    {
      "cell_type": "code",
      "source": [
        "pd.tail(5)"
      ],
      "metadata": {
        "colab": {
          "base_uri": "https://localhost:8080/",
          "height": 206
        },
        "id": "-cZ9mYBw5etu",
        "outputId": "88abef40-d53f-46c9-c805-280f9aec60ac"
      },
      "execution_count": null,
      "outputs": [
        {
          "output_type": "execute_result",
          "data": {
            "text/plain": [
              "     crim   zn  indus  chas   nox    rm   age   dis  rad    tax  ptratio  \\\n",
              "501  0.06  0.0  11.93   0.0  0.57  6.59  69.1  2.48  1.0  273.0     21.0   \n",
              "502  0.05  0.0  11.93   0.0  0.57  6.12  76.7  2.29  1.0  273.0     21.0   \n",
              "503  0.06  0.0  11.93   0.0  0.57  6.98  91.0  2.17  1.0  273.0     21.0   \n",
              "504  0.11  0.0  11.93   0.0  0.57  6.79  89.3  2.39  1.0  273.0     21.0   \n",
              "505  0.05  0.0  11.93   0.0  0.57  6.03  80.8  2.51  1.0  273.0     21.0   \n",
              "\n",
              "          b  lstat  medv   Age10  \n",
              "501  391.99   9.67  22.4   76.01  \n",
              "502  396.90   9.08  20.6   84.37  \n",
              "503  396.90   5.64  23.9  100.10  \n",
              "504  393.45   6.48  22.0   98.23  \n",
              "505  396.90   7.88  11.9   88.88  "
            ],
            "text/html": [
              "\n",
              "  <div id=\"df-224926ce-3fa0-45f3-8045-42740268269a\">\n",
              "    <div class=\"colab-df-container\">\n",
              "      <div>\n",
              "<style scoped>\n",
              "    .dataframe tbody tr th:only-of-type {\n",
              "        vertical-align: middle;\n",
              "    }\n",
              "\n",
              "    .dataframe tbody tr th {\n",
              "        vertical-align: top;\n",
              "    }\n",
              "\n",
              "    .dataframe thead th {\n",
              "        text-align: right;\n",
              "    }\n",
              "</style>\n",
              "<table border=\"1\" class=\"dataframe\">\n",
              "  <thead>\n",
              "    <tr style=\"text-align: right;\">\n",
              "      <th></th>\n",
              "      <th>crim</th>\n",
              "      <th>zn</th>\n",
              "      <th>indus</th>\n",
              "      <th>chas</th>\n",
              "      <th>nox</th>\n",
              "      <th>rm</th>\n",
              "      <th>age</th>\n",
              "      <th>dis</th>\n",
              "      <th>rad</th>\n",
              "      <th>tax</th>\n",
              "      <th>ptratio</th>\n",
              "      <th>b</th>\n",
              "      <th>lstat</th>\n",
              "      <th>medv</th>\n",
              "      <th>Age10</th>\n",
              "    </tr>\n",
              "  </thead>\n",
              "  <tbody>\n",
              "    <tr>\n",
              "      <th>501</th>\n",
              "      <td>0.06</td>\n",
              "      <td>0.0</td>\n",
              "      <td>11.93</td>\n",
              "      <td>0.0</td>\n",
              "      <td>0.57</td>\n",
              "      <td>6.59</td>\n",
              "      <td>69.1</td>\n",
              "      <td>2.48</td>\n",
              "      <td>1.0</td>\n",
              "      <td>273.0</td>\n",
              "      <td>21.0</td>\n",
              "      <td>391.99</td>\n",
              "      <td>9.67</td>\n",
              "      <td>22.4</td>\n",
              "      <td>76.01</td>\n",
              "    </tr>\n",
              "    <tr>\n",
              "      <th>502</th>\n",
              "      <td>0.05</td>\n",
              "      <td>0.0</td>\n",
              "      <td>11.93</td>\n",
              "      <td>0.0</td>\n",
              "      <td>0.57</td>\n",
              "      <td>6.12</td>\n",
              "      <td>76.7</td>\n",
              "      <td>2.29</td>\n",
              "      <td>1.0</td>\n",
              "      <td>273.0</td>\n",
              "      <td>21.0</td>\n",
              "      <td>396.90</td>\n",
              "      <td>9.08</td>\n",
              "      <td>20.6</td>\n",
              "      <td>84.37</td>\n",
              "    </tr>\n",
              "    <tr>\n",
              "      <th>503</th>\n",
              "      <td>0.06</td>\n",
              "      <td>0.0</td>\n",
              "      <td>11.93</td>\n",
              "      <td>0.0</td>\n",
              "      <td>0.57</td>\n",
              "      <td>6.98</td>\n",
              "      <td>91.0</td>\n",
              "      <td>2.17</td>\n",
              "      <td>1.0</td>\n",
              "      <td>273.0</td>\n",
              "      <td>21.0</td>\n",
              "      <td>396.90</td>\n",
              "      <td>5.64</td>\n",
              "      <td>23.9</td>\n",
              "      <td>100.10</td>\n",
              "    </tr>\n",
              "    <tr>\n",
              "      <th>504</th>\n",
              "      <td>0.11</td>\n",
              "      <td>0.0</td>\n",
              "      <td>11.93</td>\n",
              "      <td>0.0</td>\n",
              "      <td>0.57</td>\n",
              "      <td>6.79</td>\n",
              "      <td>89.3</td>\n",
              "      <td>2.39</td>\n",
              "      <td>1.0</td>\n",
              "      <td>273.0</td>\n",
              "      <td>21.0</td>\n",
              "      <td>393.45</td>\n",
              "      <td>6.48</td>\n",
              "      <td>22.0</td>\n",
              "      <td>98.23</td>\n",
              "    </tr>\n",
              "    <tr>\n",
              "      <th>505</th>\n",
              "      <td>0.05</td>\n",
              "      <td>0.0</td>\n",
              "      <td>11.93</td>\n",
              "      <td>0.0</td>\n",
              "      <td>0.57</td>\n",
              "      <td>6.03</td>\n",
              "      <td>80.8</td>\n",
              "      <td>2.51</td>\n",
              "      <td>1.0</td>\n",
              "      <td>273.0</td>\n",
              "      <td>21.0</td>\n",
              "      <td>396.90</td>\n",
              "      <td>7.88</td>\n",
              "      <td>11.9</td>\n",
              "      <td>88.88</td>\n",
              "    </tr>\n",
              "  </tbody>\n",
              "</table>\n",
              "</div>\n",
              "      <button class=\"colab-df-convert\" onclick=\"convertToInteractive('df-224926ce-3fa0-45f3-8045-42740268269a')\"\n",
              "              title=\"Convert this dataframe to an interactive table.\"\n",
              "              style=\"display:none;\">\n",
              "        \n",
              "  <svg xmlns=\"http://www.w3.org/2000/svg\" height=\"24px\"viewBox=\"0 0 24 24\"\n",
              "       width=\"24px\">\n",
              "    <path d=\"M0 0h24v24H0V0z\" fill=\"none\"/>\n",
              "    <path d=\"M18.56 5.44l.94 2.06.94-2.06 2.06-.94-2.06-.94-.94-2.06-.94 2.06-2.06.94zm-11 1L8.5 8.5l.94-2.06 2.06-.94-2.06-.94L8.5 2.5l-.94 2.06-2.06.94zm10 10l.94 2.06.94-2.06 2.06-.94-2.06-.94-.94-2.06-.94 2.06-2.06.94z\"/><path d=\"M17.41 7.96l-1.37-1.37c-.4-.4-.92-.59-1.43-.59-.52 0-1.04.2-1.43.59L10.3 9.45l-7.72 7.72c-.78.78-.78 2.05 0 2.83L4 21.41c.39.39.9.59 1.41.59.51 0 1.02-.2 1.41-.59l7.78-7.78 2.81-2.81c.8-.78.8-2.07 0-2.86zM5.41 20L4 18.59l7.72-7.72 1.47 1.35L5.41 20z\"/>\n",
              "  </svg>\n",
              "      </button>\n",
              "      \n",
              "  <style>\n",
              "    .colab-df-container {\n",
              "      display:flex;\n",
              "      flex-wrap:wrap;\n",
              "      gap: 12px;\n",
              "    }\n",
              "\n",
              "    .colab-df-convert {\n",
              "      background-color: #E8F0FE;\n",
              "      border: none;\n",
              "      border-radius: 50%;\n",
              "      cursor: pointer;\n",
              "      display: none;\n",
              "      fill: #1967D2;\n",
              "      height: 32px;\n",
              "      padding: 0 0 0 0;\n",
              "      width: 32px;\n",
              "    }\n",
              "\n",
              "    .colab-df-convert:hover {\n",
              "      background-color: #E2EBFA;\n",
              "      box-shadow: 0px 1px 2px rgba(60, 64, 67, 0.3), 0px 1px 3px 1px rgba(60, 64, 67, 0.15);\n",
              "      fill: #174EA6;\n",
              "    }\n",
              "\n",
              "    [theme=dark] .colab-df-convert {\n",
              "      background-color: #3B4455;\n",
              "      fill: #D2E3FC;\n",
              "    }\n",
              "\n",
              "    [theme=dark] .colab-df-convert:hover {\n",
              "      background-color: #434B5C;\n",
              "      box-shadow: 0px 1px 3px 1px rgba(0, 0, 0, 0.15);\n",
              "      filter: drop-shadow(0px 1px 2px rgba(0, 0, 0, 0.3));\n",
              "      fill: #FFFFFF;\n",
              "    }\n",
              "  </style>\n",
              "\n",
              "      <script>\n",
              "        const buttonEl =\n",
              "          document.querySelector('#df-224926ce-3fa0-45f3-8045-42740268269a button.colab-df-convert');\n",
              "        buttonEl.style.display =\n",
              "          google.colab.kernel.accessAllowed ? 'block' : 'none';\n",
              "\n",
              "        async function convertToInteractive(key) {\n",
              "          const element = document.querySelector('#df-224926ce-3fa0-45f3-8045-42740268269a');\n",
              "          const dataTable =\n",
              "            await google.colab.kernel.invokeFunction('convertToInteractive',\n",
              "                                                     [key], {});\n",
              "          if (!dataTable) return;\n",
              "\n",
              "          const docLinkHtml = 'Like what you see? Visit the ' +\n",
              "            '<a target=\"_blank\" href=https://colab.research.google.com/notebooks/data_table.ipynb>data table notebook</a>'\n",
              "            + ' to learn more about interactive tables.';\n",
              "          element.innerHTML = '';\n",
              "          dataTable['output_type'] = 'display_data';\n",
              "          await google.colab.output.renderOutput(dataTable, element);\n",
              "          const docLink = document.createElement('div');\n",
              "          docLink.innerHTML = docLinkHtml;\n",
              "          element.appendChild(docLink);\n",
              "        }\n",
              "      </script>\n",
              "    </div>\n",
              "  </div>\n",
              "  "
            ]
          },
          "metadata": {},
          "execution_count": 44
        }
      ]
    },
    {
      "cell_type": "code",
      "source": [
        ""
      ],
      "metadata": {
        "id": "Ot7Mail82u0k"
      },
      "execution_count": null,
      "outputs": []
    }
  ]
}